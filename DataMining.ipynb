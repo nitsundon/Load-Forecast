{
  "nbformat": 4,
  "nbformat_minor": 0,
  "metadata": {
    "colab": {
      "provenance": [],
      "mount_file_id": "https://github.com/nitsundon/Load-Forecast/blob/main/DataMining.ipynb",
      "authorship_tag": "ABX9TyOabKeOQW2yXczXLVgGqeP+",
      "include_colab_link": true
    },
    "kernelspec": {
      "name": "python3",
      "display_name": "Python 3"
    },
    "language_info": {
      "name": "python"
    }
  },
  "cells": [
    {
      "cell_type": "markdown",
      "metadata": {
        "id": "view-in-github",
        "colab_type": "text"
      },
      "source": [
        "<a href=\"https://colab.research.google.com/github/nitsundon/Load-Forecast/blob/main/DataMining.ipynb\" target=\"_parent\"><img src=\"https://colab.research.google.com/assets/colab-badge.svg\" alt=\"Open In Colab\"/></a>"
      ]
    },
    {
      "cell_type": "code",
      "execution_count": 9,
      "metadata": {
        "id": "K6RCJDaXIKHp"
      },
      "outputs": [],
      "source": [
        "import os\n",
        "import drive.MyDrive.Libraries.wrldc_file_handler as wfh"
      ]
    },
    {
      "cell_type": "code",
      "source": [
        "folder_path='/content/drive/MyDrive/Libraries/data'\n",
        "files = [f for f in os.listdir(folder_path) if os.path.isfile(os.path.join(folder_path, f))]\n",
        "files.sort()\n",
        "for file in files:\n",
        "  file_name=folder_path+\"/\"+file\n",
        "  with open(file_name, 'r') as file:\n",
        "    content = file.read()\n",
        "  data = content\n",
        "  wfh.read_data(data)"
      ],
      "metadata": {
        "colab": {
          "base_uri": "https://localhost:8080/"
        },
        "id": "eIFZK0YKJogr",
        "outputId": "c22baba5-a185-49bf-98e8-b32b60839f37"
      },
      "execution_count": 12,
      "outputs": [
        {
          "output_type": "stream",
          "name": "stdout",
          "text": [
            "         current_datetime   Demand\n",
            "2     2025-04-03 00:00:01  26624.0\n",
            "9     2025-04-03 00:01:01  26531.0\n",
            "16    2025-04-03 00:03:00  26423.0\n",
            "23    2025-04-03 00:04:02  26459.0\n",
            "30    2025-04-03 00:06:06  26339.0\n",
            "...                   ...      ...\n",
            "6897  2025-04-03 23:53:59  24808.0\n",
            "6904  2025-04-03 23:55:01  24927.0\n",
            "6911  2025-04-03 23:56:00  24859.0\n",
            "6918  2025-04-03 23:58:01  24788.0\n",
            "6925  2025-04-03 23:59:01  24829.0\n",
            "\n",
            "[990 rows x 2 columns]\n"
          ]
        },
        {
          "output_type": "stream",
          "name": "stderr",
          "text": [
            "/usr/local/lib/python3.11/dist-packages/pandas/core/indexes/base.py:7588: FutureWarning: Dtype inference on a pandas object (Series, Index, ExtensionArray) is deprecated. The Index constructor will keep the original dtype in the future. Call `infer_objects` on the result to get the old behavior.\n",
            "  return Index(sequences[0], name=names)\n"
          ]
        },
        {
          "output_type": "stream",
          "name": "stdout",
          "text": [
            "         current_datetime   Demand\n",
            "2     2025-04-04 00:01:01  24745.0\n",
            "9     2025-04-04 00:02:00  24572.0\n",
            "16    2025-04-04 00:04:02  24522.0\n",
            "23    2025-04-04 00:05:02  24548.0\n",
            "30    2025-04-04 00:07:02  24492.0\n",
            "...                   ...      ...\n",
            "6883  2025-04-04 23:52:01  26376.0\n",
            "6890  2025-04-04 23:54:01  26771.0\n",
            "6897  2025-04-04 23:55:03  26918.0\n",
            "6904  2025-04-04 23:57:01  26380.0\n",
            "6911  2025-04-04 23:58:01  26237.0\n",
            "\n",
            "[988 rows x 2 columns]\n"
          ]
        },
        {
          "output_type": "stream",
          "name": "stderr",
          "text": [
            "/usr/local/lib/python3.11/dist-packages/pandas/core/indexes/base.py:7588: FutureWarning: Dtype inference on a pandas object (Series, Index, ExtensionArray) is deprecated. The Index constructor will keep the original dtype in the future. Call `infer_objects` on the result to get the old behavior.\n",
            "  return Index(sequences[0], name=names)\n"
          ]
        },
        {
          "output_type": "stream",
          "name": "stdout",
          "text": [
            "         current_datetime   Demand\n",
            "2     2025-04-05 00:00:03  26717.0\n",
            "9     2025-04-05 00:00:59  26180.0\n",
            "16    2025-04-05 00:02:00  26163.0\n",
            "23    2025-04-05 00:04:01  26131.0\n",
            "30    2025-04-05 00:05:03  26181.0\n",
            "...                   ...      ...\n",
            "6960  2025-04-05 23:54:02  27503.0\n",
            "6967  2025-04-05 23:56:01  27513.0\n",
            "6974  2025-04-05 23:57:00  27564.0\n",
            "6981  2025-04-05 23:58:03  27535.0\n",
            "6988  2025-04-05 23:59:56  27479.0\n",
            "\n",
            "[999 rows x 2 columns]\n"
          ]
        },
        {
          "output_type": "stream",
          "name": "stderr",
          "text": [
            "/usr/local/lib/python3.11/dist-packages/pandas/core/indexes/base.py:7588: FutureWarning: Dtype inference on a pandas object (Series, Index, ExtensionArray) is deprecated. The Index constructor will keep the original dtype in the future. Call `infer_objects` on the result to get the old behavior.\n",
            "  return Index(sequences[0], name=names)\n"
          ]
        }
      ]
    }
  ]
}