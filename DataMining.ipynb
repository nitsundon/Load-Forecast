{
  "nbformat": 4,
  "nbformat_minor": 0,
  "metadata": {
    "colab": {
      "provenance": [],
      "mount_file_id": "https://github.com/nitsundon/Load-Forecast/blob/main/DataMining.ipynb",
      "authorship_tag": "ABX9TyOLrkcflNgn7Pb8hyFlanXP",
      "include_colab_link": true
    },
    "kernelspec": {
      "name": "python3",
      "display_name": "Python 3"
    },
    "language_info": {
      "name": "python"
    }
  },
  "cells": [
    {
      "cell_type": "markdown",
      "metadata": {
        "id": "view-in-github",
        "colab_type": "text"
      },
      "source": [
        "<a href=\"https://colab.research.google.com/github/nitsundon/Load-Forecast/blob/main/DataMining.ipynb\" target=\"_parent\"><img src=\"https://colab.research.google.com/assets/colab-badge.svg\" alt=\"Open In Colab\"/></a>"
      ]
    },
    {
      "cell_type": "code",
      "execution_count": 9,
      "metadata": {
        "id": "K6RCJDaXIKHp"
      },
      "outputs": [],
      "source": [
        "import os\n",
        "import drive.MyDrive.Libraries.wrldc_file_handler as wfh"
      ]
    },
    {
      "cell_type": "code",
      "source": [
        "files = [f for f in os.listdir('/content/drive/MyDrive/Libraries/data') if os.path.isfile(os.path.join('/content/drive/MyDrive/Libraries/data', f))]\n",
        "files.sort()\n",
        "for file in files:\n",
        "    with open(file_name, 'r') as file:\n",
        "      content = file.read()\n",
        "    data = content\n",
        "    wfh.read_data(data)"
      ],
      "metadata": {
        "id": "eIFZK0YKJogr",
        "outputId": "f5b57cc4-f7a0-44fe-d1e0-aef2a05cb366",
        "colab": {
          "base_uri": "https://localhost:8080/"
        }
      },
      "execution_count": 8,
      "outputs": [
        {
          "output_type": "stream",
          "name": "stdout",
          "text": [
            "2025-04-03.json\n",
            "2025-04-04.json\n",
            "2025-04-05.json\n"
          ]
        }
      ]
    }
  ]
}